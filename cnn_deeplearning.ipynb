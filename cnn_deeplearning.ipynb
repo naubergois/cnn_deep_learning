{
 "cells": [
  {
   "cell_type": "code",
   "execution_count": 16,
   "metadata": {
    "collapsed": true
   },
   "outputs": [],
   "source": [
    "## from keras.models import Sequential\n",
    "from keras.layers import Conv2D\n",
    "from keras.layers import MaxPooling2D\n",
    "from keras.layers import Flatten\n",
    "from keras.layers import Dense\n",
    "\n",
    "classifier=Sequential()\n",
    "\n",
    "classifier.add(Conv2D(32,(3,3),input_shape=(64,64,3),activation='relu'))\n",
    "\n",
    "classifier.add(MaxPooling2D(pool_size=(2,2)))\n",
    "\n",
    "classifier.add(Conv2D(32,(3,3),activation='relu'))\n",
    "\n",
    "classifier.add(MaxPooling2D(pool_size=(2,2)))\n",
    "\n",
    "classifier.add(Flatten())\n",
    "\n",
    "classifier.add(Dense(units = 128, activation = 'relu')) \n",
    "\n",
    "classifier.add(Dense(units = 1, activation = 'sigmoid'))\n",
    "\n",
    "classifier.compile(optimizer = 'adam', loss = 'binary_crossentropy', metrics = ['accuracy'])\n",
    "\n"
   ]
  },
  {
   "cell_type": "code",
   "execution_count": 17,
   "metadata": {
    "collapsed": false
   },
   "outputs": [
    {
     "name": "stdout",
     "output_type": "stream",
     "text": [
      "Found 8000 images belonging to 2 classes.\n",
      "Found 2000 images belonging to 2 classes.\n"
     ]
    }
   ],
   "source": [
    "from keras.preprocessing.image import ImageDataGenerator\n",
    "\n",
    "train_datagen = ImageDataGenerator(rescale = 1./255,shear_range = 0.2, zoom_range = 0.2, horizontal_flip = True)\n",
    "\n",
    "test_datagen = ImageDataGenerator(rescale = 1./255)\n",
    "\n",
    "training_set = train_datagen.flow_from_directory('/Users/naubergois/Downloads/Convolutional_Neural_Networks/dataset/training_set',\n",
    "target_size = (64, 64), batch_size = 32, class_mode = 'binary')\n",
    "\n",
    "test_set = train_datagen.flow_from_directory('/Users/naubergois/Downloads/Convolutional_Neural_Networks/dataset/test_set',\n",
    "target_size = (64, 64), batch_size = 32, class_mode = 'binary')\n",
    "\n",
    "\n",
    "\n",
    "\n",
    "\n"
   ]
  },
  {
   "cell_type": "code",
   "execution_count": null,
   "metadata": {
    "collapsed": false
   },
   "outputs": [
    {
     "name": "stdout",
     "output_type": "stream",
     "text": [
      "Epoch 1/5\n",
      " 100/8000 [..............................] - ETA: 8109s - loss: 0.6601 - acc: 0.6009"
     ]
    }
   ],
   "source": [
    "classifier.fit_generator(training_set, steps_per_epoch = 8000,epochs = 5, validation_data = test_set, validation_steps = 20)"
   ]
  },
  {
   "cell_type": "code",
   "execution_count": 23,
   "metadata": {
    "collapsed": false
   },
   "outputs": [
    {
     "name": "stdout",
     "output_type": "stream",
     "text": [
      "[[[[ 255.  255.  255.]\n",
      "   [ 255.  255.  255.]\n",
      "   [ 255.  255.  255.]\n",
      "   ..., \n",
      "   [ 255.  255.  255.]\n",
      "   [ 255.  255.  255.]\n",
      "   [ 255.  255.  255.]]\n",
      "\n",
      "  [[ 255.  255.  255.]\n",
      "   [ 255.  255.  255.]\n",
      "   [ 255.  255.  255.]\n",
      "   ..., \n",
      "   [ 255.  255.  255.]\n",
      "   [ 255.  255.  255.]\n",
      "   [ 255.  255.  255.]]\n",
      "\n",
      "  [[ 255.  255.  255.]\n",
      "   [ 255.  255.  255.]\n",
      "   [ 255.  255.  255.]\n",
      "   ..., \n",
      "   [ 255.  255.  255.]\n",
      "   [ 255.  255.  255.]\n",
      "   [ 255.  255.  255.]]\n",
      "\n",
      "  ..., \n",
      "  [[ 255.  255.  255.]\n",
      "   [ 255.  255.  255.]\n",
      "   [ 255.  255.  255.]\n",
      "   ..., \n",
      "   [ 255.  255.  255.]\n",
      "   [ 255.  255.  255.]\n",
      "   [ 255.  255.  255.]]\n",
      "\n",
      "  [[ 255.  255.  255.]\n",
      "   [ 255.  255.  255.]\n",
      "   [ 255.  255.  255.]\n",
      "   ..., \n",
      "   [ 255.  255.  255.]\n",
      "   [ 255.  255.  255.]\n",
      "   [ 255.  255.  255.]]\n",
      "\n",
      "  [[ 255.  255.  255.]\n",
      "   [ 255.  255.  255.]\n",
      "   [ 255.  255.  255.]\n",
      "   ..., \n",
      "   [ 255.  255.  255.]\n",
      "   [ 255.  255.  255.]\n",
      "   [ 255.  255.  255.]]]]\n",
      "[[ 1.]]\n"
     ]
    }
   ],
   "source": [
    "import numpy as np\n",
    "from keras.preprocessing import image\n",
    "\n",
    "test_image = image.load_img('/Users/naubergois/Downloads/Convolutional_Neural_Networks/dataset/single_prediction/cachorro_desenho.jpg', target_size = (64, 64))\n",
    "\n",
    "test_image = image.img_to_array(test_image) \n",
    "test_image = np.expand_dims(test_image, axis = 0) \n",
    "print(test_image)\n",
    "result = classifier.predict(test_image)\n",
    "print(result)"
   ]
  },
  {
   "cell_type": "code",
   "execution_count": null,
   "metadata": {
    "collapsed": true
   },
   "outputs": [],
   "source": []
  }
 ],
 "metadata": {
  "anaconda-cloud": {},
  "kernelspec": {
   "display_name": "Python [conda root]",
   "language": "python",
   "name": "conda-root-py"
  },
  "language_info": {
   "codemirror_mode": {
    "name": "ipython",
    "version": 2
   },
   "file_extension": ".py",
   "mimetype": "text/x-python",
   "name": "python",
   "nbconvert_exporter": "python",
   "pygments_lexer": "ipython2",
   "version": "2.7.12"
  }
 },
 "nbformat": 4,
 "nbformat_minor": 2
}
